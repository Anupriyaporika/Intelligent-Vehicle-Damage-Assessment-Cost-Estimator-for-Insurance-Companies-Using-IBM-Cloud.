{
 "cells": [
  {
   "cell_type": "markdown",
   "id": "9dba600b",
   "metadata": {},
   "source": [
    "### Importing the libraries"
   ]
  },
  {
   "cell_type": "code",
   "execution_count": 1,
   "id": "d6346759",
   "metadata": {},
   "outputs": [],
   "source": [
    "# packages\n",
    "from tensorflow.keras.models import Sequential \n",
    "from tensorflow.keras.layers import Dense, Conv2D, MaxPooling2D, Dropout, BatchNormalization, Flatten \n",
    "from tensorflow.keras.preprocessing.image import ImageDataGenerator\n",
    "import pandas as pd\n",
    "import matplotlib.pyplot as plt\n",
    "import cv2"
   ]
  },
  {
   "cell_type": "code",
   "execution_count": 2,
   "id": "7abd0729",
   "metadata": {},
   "outputs": [],
   "source": [
    "import os"
   ]
  },
  {
   "cell_type": "code",
   "execution_count": 3,
   "id": "f5f1f0dc",
   "metadata": {},
   "outputs": [],
   "source": [
    "os.chdir(r\"D:\\TheSmartBridge\\Projects\\IBM 5 Project\\car damage detection\")"
   ]
  },
  {
   "cell_type": "code",
   "execution_count": 4,
   "id": "a73cd861",
   "metadata": {},
   "outputs": [],
   "source": [
    "# rescale divide image pixel by 255,shear and zoom range reduced to 20%\n",
    "train_gen = ImageDataGenerator(rescale=1./255,\n",
    "                               shear_range=0.2,\n",
    "                               zoom_range=0.2,\n",
    "                               horizontal_flip=True,\n",
    "                               vertical_flip=True)\n",
    "\n",
    "# scaling should be done training and testing data ,so applying on test data,but augmentation not requried\n",
    "test_gen = ImageDataGenerator(rescale=1./255)"
   ]
  },
  {
   "cell_type": "code",
   "execution_count": 5,
   "id": "b02d3992",
   "metadata": {
    "scrolled": true
   },
   "outputs": [
    {
     "name": "stdout",
     "output_type": "stream",
     "text": [
      "Found 979 images belonging to 3 classes.\n"
     ]
    }
   ],
   "source": [
    "x_train = train_gen.flow_from_directory(\"Dataset\\\\body\\\\training\",target_size=(64,64),batch_size=10)"
   ]
  },
  {
   "cell_type": "code",
   "execution_count": 6,
   "id": "a475c89d",
   "metadata": {},
   "outputs": [
    {
     "name": "stdout",
     "output_type": "stream",
     "text": [
      "Found 171 images belonging to 3 classes.\n"
     ]
    }
   ],
   "source": [
    "x_test = test_gen.flow_from_directory(\"Dataset\\\\body\\\\validation\",target_size=(64,64),batch_size=10)"
   ]
  },
  {
   "cell_type": "code",
   "execution_count": 7,
   "id": "b6e3446b",
   "metadata": {},
   "outputs": [],
   "source": [
    "model = Sequential()  # intializing the model\n",
    "\n",
    "model.add(Conv2D(164, (3, 3), input_shape=(64,64,3), activation='relu'))\n",
    "model.add(BatchNormalization())\n",
    "model.add(MaxPooling2D(pool_size=(2,2)))\n",
    "model.add(Dropout(0.4))\n",
    "model.add(Conv2D(128, (3, 3), activation='relu'))\n",
    "model.add(BatchNormalization())\n",
    "model.add(MaxPooling2D(pool_size=(2,2)))\n",
    "model.add(Dropout(0.4))\n",
    "model.add(Flatten())\n",
    "model.add(Dense(256, activation='relu'))\n",
    "model.add(BatchNormalization())\n",
    "model.add(Dropout(0.2))\n",
    "model.add(Dense(128, activation='relu'))\n",
    "model.add(BatchNormalization())\n",
    "model.add(Dropout(0.2))\n",
    "model.add(Dense(3, activation='softmax'))\n",
    "\n",
    "model.compile(optimizer='adam', loss='categorical_crossentropy', metrics = ['accuracy'])"
   ]
  },
  {
   "cell_type": "code",
   "execution_count": 8,
   "id": "7018d4d9",
   "metadata": {
    "scrolled": false
   },
   "outputs": [
    {
     "name": "stdout",
     "output_type": "stream",
     "text": [
      "Model: \"sequential\"\n",
      "_________________________________________________________________\n",
      " Layer (type)                Output Shape              Param #   \n",
      "=================================================================\n",
      " conv2d (Conv2D)             (None, 62, 62, 164)       4592      \n",
      "                                                                 \n",
      " batch_normalization (BatchN  (None, 62, 62, 164)      656       \n",
      " ormalization)                                                   \n",
      "                                                                 \n",
      " max_pooling2d (MaxPooling2D  (None, 31, 31, 164)      0         \n",
      " )                                                               \n",
      "                                                                 \n",
      " dropout (Dropout)           (None, 31, 31, 164)       0         \n",
      "                                                                 \n",
      " conv2d_1 (Conv2D)           (None, 29, 29, 128)       189056    \n",
      "                                                                 \n",
      " batch_normalization_1 (Batc  (None, 29, 29, 128)      512       \n",
      " hNormalization)                                                 \n",
      "                                                                 \n",
      " max_pooling2d_1 (MaxPooling  (None, 14, 14, 128)      0         \n",
      " 2D)                                                             \n",
      "                                                                 \n",
      " dropout_1 (Dropout)         (None, 14, 14, 128)       0         \n",
      "                                                                 \n",
      " flatten (Flatten)           (None, 25088)             0         \n",
      "                                                                 \n",
      " dense (Dense)               (None, 256)               6422784   \n",
      "                                                                 \n",
      " batch_normalization_2 (Batc  (None, 256)              1024      \n",
      " hNormalization)                                                 \n",
      "                                                                 \n",
      " dropout_2 (Dropout)         (None, 256)               0         \n",
      "                                                                 \n",
      " dense_1 (Dense)             (None, 128)               32896     \n",
      "                                                                 \n",
      " batch_normalization_3 (Batc  (None, 128)              512       \n",
      " hNormalization)                                                 \n",
      "                                                                 \n",
      " dropout_3 (Dropout)         (None, 128)               0         \n",
      "                                                                 \n",
      " dense_2 (Dense)             (None, 3)                 387       \n",
      "                                                                 \n",
      "=================================================================\n",
      "Total params: 6,652,419\n",
      "Trainable params: 6,651,067\n",
      "Non-trainable params: 1,352\n",
      "_________________________________________________________________\n"
     ]
    }
   ],
   "source": [
    "model.summary()"
   ]
  },
  {
   "cell_type": "code",
   "execution_count": 19,
   "id": "273105f0",
   "metadata": {},
   "outputs": [
    {
     "data": {
      "text/plain": [
       "{'00-front': 0, '01-rear': 1, '02-side': 2}"
      ]
     },
     "execution_count": 19,
     "metadata": {},
     "output_type": "execute_result"
    }
   ],
   "source": [
    "x_train.class_indices  # model will automatically train classes into 0 and 1"
   ]
  },
  {
   "cell_type": "code",
   "execution_count": 9,
   "id": "adc4fe6d",
   "metadata": {
    "scrolled": false
   },
   "outputs": [
    {
     "name": "stderr",
     "output_type": "stream",
     "text": [
      "C:\\Users\\USER\\AppData\\Local\\Temp/ipykernel_18512/3373965578.py:1: UserWarning: `Model.fit_generator` is deprecated and will be removed in a future version. Please use `Model.fit`, which supports generators.\n",
      "  history = model.fit_generator(x_train,\n"
     ]
    },
    {
     "name": "stdout",
     "output_type": "stream",
     "text": [
      "Epoch 1/50\n",
      "97/97 [==============================] - 37s 369ms/step - loss: 1.4569 - accuracy: 0.3612 - val_loss: 1.8309 - val_accuracy: 0.3294\n",
      "Epoch 2/50\n",
      "97/97 [==============================] - 35s 365ms/step - loss: 1.2902 - accuracy: 0.3860 - val_loss: 2.2665 - val_accuracy: 0.2824\n",
      "Epoch 3/50\n",
      "97/97 [==============================] - 39s 403ms/step - loss: 1.2479 - accuracy: 0.3787 - val_loss: 1.5834 - val_accuracy: 0.2706\n",
      "Epoch 4/50\n",
      "97/97 [==============================] - 44s 454ms/step - loss: 1.2004 - accuracy: 0.4025 - val_loss: 1.2388 - val_accuracy: 0.3176\n",
      "Epoch 5/50\n",
      "97/97 [==============================] - 49s 509ms/step - loss: 1.1372 - accuracy: 0.4551 - val_loss: 1.4383 - val_accuracy: 0.3176\n",
      "Epoch 6/50\n",
      "97/97 [==============================] - 49s 508ms/step - loss: 1.1148 - accuracy: 0.4138 - val_loss: 1.1470 - val_accuracy: 0.3765\n",
      "Epoch 7/50\n",
      "97/97 [==============================] - 46s 474ms/step - loss: 1.0870 - accuracy: 0.4685 - val_loss: 1.2612 - val_accuracy: 0.4176\n",
      "Epoch 8/50\n",
      "97/97 [==============================] - 45s 463ms/step - loss: 1.1130 - accuracy: 0.4365 - val_loss: 1.2274 - val_accuracy: 0.4294\n",
      "Epoch 9/50\n",
      "97/97 [==============================] - 46s 470ms/step - loss: 1.0670 - accuracy: 0.4572 - val_loss: 1.1733 - val_accuracy: 0.4412\n",
      "Epoch 10/50\n",
      "97/97 [==============================] - 45s 459ms/step - loss: 1.0934 - accuracy: 0.4345 - val_loss: 1.1149 - val_accuracy: 0.4647\n",
      "Epoch 11/50\n",
      "97/97 [==============================] - 41s 424ms/step - loss: 1.0298 - accuracy: 0.4778 - val_loss: 1.2854 - val_accuracy: 0.4235\n",
      "Epoch 12/50\n",
      "97/97 [==============================] - 38s 397ms/step - loss: 1.0298 - accuracy: 0.5026 - val_loss: 1.0452 - val_accuracy: 0.4765\n",
      "Epoch 13/50\n",
      "97/97 [==============================] - 39s 406ms/step - loss: 1.0197 - accuracy: 0.4788 - val_loss: 1.1982 - val_accuracy: 0.3941\n",
      "Epoch 14/50\n",
      "97/97 [==============================] - 38s 394ms/step - loss: 1.0301 - accuracy: 0.4747 - val_loss: 1.0157 - val_accuracy: 0.5353\n",
      "Epoch 15/50\n",
      "97/97 [==============================] - 41s 421ms/step - loss: 1.0238 - accuracy: 0.4964 - val_loss: 1.0900 - val_accuracy: 0.4824\n",
      "Epoch 16/50\n",
      "97/97 [==============================] - 40s 411ms/step - loss: 0.9818 - accuracy: 0.5170 - val_loss: 1.0836 - val_accuracy: 0.4471\n",
      "Epoch 17/50\n",
      "97/97 [==============================] - 41s 418ms/step - loss: 0.9894 - accuracy: 0.5046 - val_loss: 1.0955 - val_accuracy: 0.4706\n",
      "Epoch 18/50\n",
      "97/97 [==============================] - 40s 409ms/step - loss: 0.9874 - accuracy: 0.5181 - val_loss: 1.1283 - val_accuracy: 0.4824\n",
      "Epoch 19/50\n",
      "97/97 [==============================] - 41s 425ms/step - loss: 0.9628 - accuracy: 0.5232 - val_loss: 1.1186 - val_accuracy: 0.4824\n",
      "Epoch 20/50\n",
      "97/97 [==============================] - 40s 407ms/step - loss: 0.9790 - accuracy: 0.5139 - val_loss: 1.1637 - val_accuracy: 0.3941\n",
      "Epoch 21/50\n",
      "97/97 [==============================] - 41s 417ms/step - loss: 0.9712 - accuracy: 0.5057 - val_loss: 1.0445 - val_accuracy: 0.4882\n",
      "Epoch 22/50\n",
      "97/97 [==============================] - 42s 429ms/step - loss: 0.9472 - accuracy: 0.5315 - val_loss: 1.1422 - val_accuracy: 0.4471\n",
      "Epoch 23/50\n",
      "97/97 [==============================] - 39s 400ms/step - loss: 0.9724 - accuracy: 0.5346 - val_loss: 1.0295 - val_accuracy: 0.4765\n",
      "Epoch 24/50\n",
      "97/97 [==============================] - 39s 401ms/step - loss: 0.9370 - accuracy: 0.5470 - val_loss: 1.0523 - val_accuracy: 0.4882\n",
      "Epoch 25/50\n",
      "97/97 [==============================] - 41s 423ms/step - loss: 0.9315 - accuracy: 0.5511 - val_loss: 1.2452 - val_accuracy: 0.3471\n",
      "Epoch 26/50\n",
      "97/97 [==============================] - 39s 398ms/step - loss: 0.9649 - accuracy: 0.5470 - val_loss: 1.4977 - val_accuracy: 0.4412\n",
      "Epoch 27/50\n",
      "97/97 [==============================] - 38s 396ms/step - loss: 0.9401 - accuracy: 0.5459 - val_loss: 1.1179 - val_accuracy: 0.4824\n",
      "Epoch 28/50\n",
      "97/97 [==============================] - 40s 407ms/step - loss: 0.9079 - accuracy: 0.5728 - val_loss: 1.4968 - val_accuracy: 0.4235\n",
      "Epoch 29/50\n",
      "97/97 [==============================] - 38s 393ms/step - loss: 0.9295 - accuracy: 0.5531 - val_loss: 1.0752 - val_accuracy: 0.4471\n",
      "Epoch 30/50\n",
      "97/97 [==============================] - 41s 428ms/step - loss: 0.9269 - accuracy: 0.5573 - val_loss: 1.0706 - val_accuracy: 0.5059\n",
      "Epoch 31/50\n",
      "97/97 [==============================] - 43s 441ms/step - loss: 0.8893 - accuracy: 0.5924 - val_loss: 1.0810 - val_accuracy: 0.4588\n",
      "Epoch 32/50\n",
      "97/97 [==============================] - 46s 471ms/step - loss: 0.9308 - accuracy: 0.5470 - val_loss: 1.0227 - val_accuracy: 0.5000\n",
      "Epoch 33/50\n",
      "97/97 [==============================] - 42s 436ms/step - loss: 0.9220 - accuracy: 0.5738 - val_loss: 1.0853 - val_accuracy: 0.4765\n",
      "Epoch 34/50\n",
      "97/97 [==============================] - 42s 437ms/step - loss: 0.9037 - accuracy: 0.5872 - val_loss: 1.1131 - val_accuracy: 0.5176\n",
      "Epoch 35/50\n",
      "97/97 [==============================] - 42s 435ms/step - loss: 0.9113 - accuracy: 0.5531 - val_loss: 1.0785 - val_accuracy: 0.4824\n",
      "Epoch 36/50\n",
      "97/97 [==============================] - 45s 462ms/step - loss: 0.8934 - accuracy: 0.5800 - val_loss: 1.1016 - val_accuracy: 0.4471\n",
      "Epoch 37/50\n",
      "97/97 [==============================] - 43s 439ms/step - loss: 0.9143 - accuracy: 0.5800 - val_loss: 1.0969 - val_accuracy: 0.4765\n",
      "Epoch 38/50\n",
      "97/97 [==============================] - 39s 405ms/step - loss: 0.9313 - accuracy: 0.5666 - val_loss: 1.1902 - val_accuracy: 0.4118\n",
      "Epoch 39/50\n",
      "97/97 [==============================] - 43s 442ms/step - loss: 0.9245 - accuracy: 0.5552 - val_loss: 1.1423 - val_accuracy: 0.4412\n",
      "Epoch 40/50\n",
      "97/97 [==============================] - 43s 444ms/step - loss: 0.9046 - accuracy: 0.5851 - val_loss: 1.1085 - val_accuracy: 0.4529\n",
      "Epoch 41/50\n",
      "97/97 [==============================] - 43s 439ms/step - loss: 0.9081 - accuracy: 0.5717 - val_loss: 1.1167 - val_accuracy: 0.4647\n",
      "Epoch 42/50\n",
      "97/97 [==============================] - 44s 456ms/step - loss: 0.9108 - accuracy: 0.5697 - val_loss: 1.2679 - val_accuracy: 0.4353\n",
      "Epoch 43/50\n",
      "97/97 [==============================] - 42s 431ms/step - loss: 0.8889 - accuracy: 0.5924 - val_loss: 1.0783 - val_accuracy: 0.4529\n",
      "Epoch 44/50\n",
      "97/97 [==============================] - 43s 447ms/step - loss: 0.8809 - accuracy: 0.5955 - val_loss: 1.1557 - val_accuracy: 0.4706\n",
      "Epoch 45/50\n",
      "97/97 [==============================] - 43s 441ms/step - loss: 0.8945 - accuracy: 0.5717 - val_loss: 1.1650 - val_accuracy: 0.4824\n",
      "Epoch 46/50\n",
      "97/97 [==============================] - 44s 457ms/step - loss: 0.8850 - accuracy: 0.5924 - val_loss: 1.1939 - val_accuracy: 0.5000\n",
      "Epoch 47/50\n",
      "97/97 [==============================] - 45s 460ms/step - loss: 0.8893 - accuracy: 0.5789 - val_loss: 1.1169 - val_accuracy: 0.4882\n",
      "Epoch 48/50\n",
      "97/97 [==============================] - 39s 403ms/step - loss: 0.8787 - accuracy: 0.5934 - val_loss: 1.1195 - val_accuracy: 0.5059\n",
      "Epoch 49/50\n",
      "97/97 [==============================] - 38s 388ms/step - loss: 0.8693 - accuracy: 0.5944 - val_loss: 1.3542 - val_accuracy: 0.4294\n",
      "Epoch 50/50\n",
      "97/97 [==============================] - 44s 457ms/step - loss: 0.8668 - accuracy: 0.6058 - val_loss: 1.2965 - val_accuracy: 0.4647\n"
     ]
    }
   ],
   "source": [
    "history = model.fit_generator(x_train,\n",
    "                              steps_per_epoch=979//10,\n",
    "                              epochs=50,\n",
    "                              validation_data=x_test,\n",
    "                              validation_steps=171//10)"
   ]
  },
  {
   "cell_type": "code",
   "execution_count": 10,
   "id": "312ab6d5",
   "metadata": {},
   "outputs": [],
   "source": [
    "# saving the model,which can be reused,dl models are saved as h5\n",
    "model.save(\"model1.h5\")"
   ]
  },
  {
   "cell_type": "markdown",
   "id": "bb85bc49",
   "metadata": {},
   "source": [
    "### Testing"
   ]
  },
  {
   "cell_type": "code",
   "execution_count": 16,
   "id": "9ddc0d8b",
   "metadata": {},
   "outputs": [],
   "source": [
    "from tensorflow.keras.models import load_model\n",
    "from tensorflow.keras.preprocessing import image\n",
    "import numpy as np\n"
   ]
  },
  {
   "cell_type": "code",
   "execution_count": 17,
   "id": "a92bd22b",
   "metadata": {},
   "outputs": [],
   "source": [
    "model = load_model(\"model1.h5\")"
   ]
  },
  {
   "cell_type": "code",
   "execution_count": 21,
   "id": "101e996a",
   "metadata": {},
   "outputs": [],
   "source": [
    "img = image.load_img(r\"D:\\TheSmartBridge\\Projects\\IBM 5 Project\\car damage detection\\Dataset\\body\\validation\\02-side\\0001.JPEG\", target_size=(64,64))"
   ]
  },
  {
   "cell_type": "code",
   "execution_count": 25,
   "id": "d97b92d3",
   "metadata": {},
   "outputs": [],
   "source": [
    "x = image.img_to_array(img)"
   ]
  },
  {
   "cell_type": "code",
   "execution_count": 28,
   "id": "9c04e862",
   "metadata": {},
   "outputs": [
    {
     "data": {
      "text/plain": [
       "(1, 64, 64, 3)"
      ]
     },
     "execution_count": 28,
     "metadata": {},
     "output_type": "execute_result"
    }
   ],
   "source": [
    "x.shape"
   ]
  },
  {
   "cell_type": "code",
   "execution_count": 27,
   "id": "e0d1a1ab",
   "metadata": {},
   "outputs": [],
   "source": [
    "x = np.expand_dims(x,axis=0)"
   ]
  },
  {
   "cell_type": "code",
   "execution_count": 30,
   "id": "b029e44e",
   "metadata": {},
   "outputs": [],
   "source": [
    "prediction = model.predict(x)\n",
    "label = [\"front\",\"rear\",\"side\"]\n",
    "preds = label[np.argmax(prediction)]"
   ]
  },
  {
   "cell_type": "code",
   "execution_count": 31,
   "id": "dd264656",
   "metadata": {
    "scrolled": true
   },
   "outputs": [
    {
     "data": {
      "text/plain": [
       "'side'"
      ]
     },
     "execution_count": 31,
     "metadata": {},
     "output_type": "execute_result"
    }
   ],
   "source": [
    "preds"
   ]
  },
  {
   "cell_type": "code",
   "execution_count": null,
   "id": "e6c74897",
   "metadata": {},
   "outputs": [],
   "source": []
  },
  {
   "cell_type": "code",
   "execution_count": null,
   "id": "355d7963",
   "metadata": {},
   "outputs": [],
   "source": []
  },
  {
   "cell_type": "markdown",
   "id": "34f8e173",
   "metadata": {},
   "source": [
    "# Model for severity"
   ]
  },
  {
   "cell_type": "code",
   "execution_count": 34,
   "id": "11b572c2",
   "metadata": {},
   "outputs": [
    {
     "name": "stdout",
     "output_type": "stream",
     "text": [
      "Found 979 images belonging to 3 classes.\n"
     ]
    }
   ],
   "source": [
    "x_train1 = train_gen.flow_from_directory(\"Dataset\\\\level\\\\training\",target_size=(64,64),batch_size=10)"
   ]
  },
  {
   "cell_type": "code",
   "execution_count": 35,
   "id": "5b0e5ad2",
   "metadata": {},
   "outputs": [
    {
     "name": "stdout",
     "output_type": "stream",
     "text": [
      "Found 171 images belonging to 3 classes.\n"
     ]
    }
   ],
   "source": [
    "x_test1 = test_gen.flow_from_directory(\"Dataset\\\\level\\\\validation\",target_size=(64,64),batch_size=10)"
   ]
  },
  {
   "cell_type": "code",
   "execution_count": 36,
   "id": "c92dae05",
   "metadata": {},
   "outputs": [],
   "source": [
    "model1 = Sequential()  # intializing the model\n",
    "\n",
    "model1.add(Conv2D(164, (3, 3), input_shape=(64,64,3), activation='relu'))\n",
    "model1.add(BatchNormalization())\n",
    "model1.add(MaxPooling2D(pool_size=(2,2)))\n",
    "model1.add(Dropout(0.4))\n",
    "model1.add(Conv2D(128, (3, 3), activation='relu'))\n",
    "model1.add(BatchNormalization())\n",
    "model1.add(MaxPooling2D(pool_size=(2,2)))\n",
    "model1.add(Dropout(0.4))\n",
    "model1.add(Flatten())\n",
    "model1.add(Dense(256, activation='relu'))\n",
    "model1.add(BatchNormalization())\n",
    "model1.add(Dropout(0.2))\n",
    "model1.add(Dense(128, activation='relu'))\n",
    "model1.add(BatchNormalization())\n",
    "model1.add(Dropout(0.2))\n",
    "model1.add(Dense(3, activation='softmax'))\n",
    "\n",
    "model1.compile(optimizer='adam', loss='categorical_crossentropy', metrics = ['accuracy'])"
   ]
  },
  {
   "cell_type": "code",
   "execution_count": 37,
   "id": "315d81ec",
   "metadata": {},
   "outputs": [
    {
     "name": "stdout",
     "output_type": "stream",
     "text": [
      "Model: \"sequential_1\"\n",
      "_________________________________________________________________\n",
      " Layer (type)                Output Shape              Param #   \n",
      "=================================================================\n",
      " conv2d_2 (Conv2D)           (None, 62, 62, 164)       4592      \n",
      "                                                                 \n",
      " batch_normalization_4 (Batc  (None, 62, 62, 164)      656       \n",
      " hNormalization)                                                 \n",
      "                                                                 \n",
      " max_pooling2d_2 (MaxPooling  (None, 31, 31, 164)      0         \n",
      " 2D)                                                             \n",
      "                                                                 \n",
      " dropout_4 (Dropout)         (None, 31, 31, 164)       0         \n",
      "                                                                 \n",
      " conv2d_3 (Conv2D)           (None, 29, 29, 128)       189056    \n",
      "                                                                 \n",
      " batch_normalization_5 (Batc  (None, 29, 29, 128)      512       \n",
      " hNormalization)                                                 \n",
      "                                                                 \n",
      " max_pooling2d_3 (MaxPooling  (None, 14, 14, 128)      0         \n",
      " 2D)                                                             \n",
      "                                                                 \n",
      " dropout_5 (Dropout)         (None, 14, 14, 128)       0         \n",
      "                                                                 \n",
      " flatten_1 (Flatten)         (None, 25088)             0         \n",
      "                                                                 \n",
      " dense_3 (Dense)             (None, 256)               6422784   \n",
      "                                                                 \n",
      " batch_normalization_6 (Batc  (None, 256)              1024      \n",
      " hNormalization)                                                 \n",
      "                                                                 \n",
      " dropout_6 (Dropout)         (None, 256)               0         \n",
      "                                                                 \n",
      " dense_4 (Dense)             (None, 128)               32896     \n",
      "                                                                 \n",
      " batch_normalization_7 (Batc  (None, 128)              512       \n",
      " hNormalization)                                                 \n",
      "                                                                 \n",
      " dropout_7 (Dropout)         (None, 128)               0         \n",
      "                                                                 \n",
      " dense_5 (Dense)             (None, 3)                 387       \n",
      "                                                                 \n",
      "=================================================================\n",
      "Total params: 6,652,419\n",
      "Trainable params: 6,651,067\n",
      "Non-trainable params: 1,352\n",
      "_________________________________________________________________\n"
     ]
    }
   ],
   "source": [
    "model1.summary()"
   ]
  },
  {
   "cell_type": "code",
   "execution_count": 38,
   "id": "ca0049e6",
   "metadata": {
    "scrolled": false
   },
   "outputs": [
    {
     "name": "stderr",
     "output_type": "stream",
     "text": [
      "C:\\Users\\USER\\AppData\\Local\\Temp/ipykernel_18512/344200894.py:1: UserWarning: `Model.fit_generator` is deprecated and will be removed in a future version. Please use `Model.fit`, which supports generators.\n",
      "  history = model.fit_generator(x_train1,\n"
     ]
    },
    {
     "name": "stdout",
     "output_type": "stream",
     "text": [
      "Epoch 1/50\n",
      "97/97 [==============================] - 42s 421ms/step - loss: 1.2213 - accuracy: 0.3395 - val_loss: 1.0924 - val_accuracy: 0.4294\n",
      "Epoch 2/50\n",
      "97/97 [==============================] - 45s 464ms/step - loss: 1.0618 - accuracy: 0.4458 - val_loss: 1.0575 - val_accuracy: 0.4706\n",
      "Epoch 3/50\n",
      "97/97 [==============================] - 44s 456ms/step - loss: 1.0221 - accuracy: 0.4809 - val_loss: 1.0316 - val_accuracy: 0.4941\n",
      "Epoch 4/50\n",
      "97/97 [==============================] - 44s 456ms/step - loss: 0.9799 - accuracy: 0.4964 - val_loss: 1.0179 - val_accuracy: 0.5000\n",
      "Epoch 5/50\n",
      "97/97 [==============================] - 44s 456ms/step - loss: 0.9443 - accuracy: 0.5243 - val_loss: 1.0554 - val_accuracy: 0.4765\n",
      "Epoch 6/50\n",
      "97/97 [==============================] - 35s 355ms/step - loss: 0.9673 - accuracy: 0.5139 - val_loss: 1.0091 - val_accuracy: 0.5412\n",
      "Epoch 7/50\n",
      "97/97 [==============================] - 34s 350ms/step - loss: 0.9464 - accuracy: 0.5325 - val_loss: 1.1549 - val_accuracy: 0.4824\n",
      "Epoch 8/50\n",
      "97/97 [==============================] - 34s 352ms/step - loss: 0.9163 - accuracy: 0.5490 - val_loss: 1.0197 - val_accuracy: 0.5294\n",
      "Epoch 9/50\n",
      "97/97 [==============================] - 35s 358ms/step - loss: 0.8929 - accuracy: 0.5820 - val_loss: 0.9965 - val_accuracy: 0.5294\n",
      "Epoch 10/50\n",
      "97/97 [==============================] - 34s 352ms/step - loss: 0.9229 - accuracy: 0.5635 - val_loss: 1.4693 - val_accuracy: 0.3941\n",
      "Epoch 11/50\n",
      "97/97 [==============================] - 34s 353ms/step - loss: 0.9181 - accuracy: 0.5480 - val_loss: 1.1960 - val_accuracy: 0.4235\n",
      "Epoch 12/50\n",
      "97/97 [==============================] - 34s 355ms/step - loss: 0.9508 - accuracy: 0.5346 - val_loss: 1.0566 - val_accuracy: 0.4824\n",
      "Epoch 13/50\n",
      "97/97 [==============================] - 35s 364ms/step - loss: 0.8937 - accuracy: 0.5531 - val_loss: 0.9882 - val_accuracy: 0.5294\n",
      "Epoch 14/50\n",
      "97/97 [==============================] - 34s 350ms/step - loss: 0.8858 - accuracy: 0.5820 - val_loss: 1.3562 - val_accuracy: 0.4588\n",
      "Epoch 15/50\n",
      "97/97 [==============================] - 34s 350ms/step - loss: 0.9022 - accuracy: 0.5769 - val_loss: 1.9942 - val_accuracy: 0.3882\n",
      "Epoch 16/50\n",
      "97/97 [==============================] - 34s 350ms/step - loss: 0.8769 - accuracy: 0.5934 - val_loss: 1.1604 - val_accuracy: 0.4706\n",
      "Epoch 17/50\n",
      "97/97 [==============================] - 34s 350ms/step - loss: 0.9200 - accuracy: 0.5470 - val_loss: 1.0142 - val_accuracy: 0.4765\n",
      "Epoch 18/50\n",
      "97/97 [==============================] - 34s 353ms/step - loss: 0.8718 - accuracy: 0.5779 - val_loss: 1.0933 - val_accuracy: 0.5176\n",
      "Epoch 19/50\n",
      "97/97 [==============================] - 35s 356ms/step - loss: 0.8728 - accuracy: 0.5800 - val_loss: 0.9770 - val_accuracy: 0.5059\n",
      "Epoch 20/50\n",
      "97/97 [==============================] - 34s 352ms/step - loss: 0.8621 - accuracy: 0.6006 - val_loss: 1.0494 - val_accuracy: 0.5235\n",
      "Epoch 21/50\n",
      "97/97 [==============================] - 35s 357ms/step - loss: 0.8400 - accuracy: 0.5903 - val_loss: 1.0483 - val_accuracy: 0.5000\n",
      "Epoch 22/50\n",
      "97/97 [==============================] - 34s 350ms/step - loss: 0.8920 - accuracy: 0.5862 - val_loss: 1.3959 - val_accuracy: 0.3941\n",
      "Epoch 23/50\n",
      "97/97 [==============================] - 34s 351ms/step - loss: 0.8761 - accuracy: 0.5800 - val_loss: 1.2423 - val_accuracy: 0.5118\n",
      "Epoch 24/50\n",
      "97/97 [==============================] - 34s 351ms/step - loss: 0.8454 - accuracy: 0.6006 - val_loss: 1.2242 - val_accuracy: 0.4765\n",
      "Epoch 25/50\n",
      "97/97 [==============================] - 34s 350ms/step - loss: 0.8716 - accuracy: 0.5872 - val_loss: 1.1073 - val_accuracy: 0.4941\n",
      "Epoch 26/50\n",
      "97/97 [==============================] - 35s 361ms/step - loss: 0.8357 - accuracy: 0.6089 - val_loss: 1.3773 - val_accuracy: 0.4647\n",
      "Epoch 27/50\n",
      "97/97 [==============================] - 35s 362ms/step - loss: 0.8441 - accuracy: 0.6058 - val_loss: 1.0837 - val_accuracy: 0.4824\n",
      "Epoch 28/50\n",
      "97/97 [==============================] - 36s 368ms/step - loss: 0.8272 - accuracy: 0.6233 - val_loss: 1.2566 - val_accuracy: 0.5000\n",
      "Epoch 29/50\n",
      "97/97 [==============================] - 35s 358ms/step - loss: 0.8476 - accuracy: 0.5996 - val_loss: 1.2369 - val_accuracy: 0.4882\n",
      "Epoch 30/50\n",
      "97/97 [==============================] - 35s 357ms/step - loss: 0.8280 - accuracy: 0.6202 - val_loss: 1.0250 - val_accuracy: 0.4941\n",
      "Epoch 31/50\n",
      "97/97 [==============================] - 35s 357ms/step - loss: 0.8414 - accuracy: 0.5996 - val_loss: 0.9864 - val_accuracy: 0.4941\n",
      "Epoch 32/50\n",
      "97/97 [==============================] - 34s 352ms/step - loss: 0.8577 - accuracy: 0.5893 - val_loss: 0.9846 - val_accuracy: 0.4941\n",
      "Epoch 33/50\n",
      "97/97 [==============================] - 34s 350ms/step - loss: 0.8458 - accuracy: 0.6151 - val_loss: 1.0222 - val_accuracy: 0.5294\n",
      "Epoch 34/50\n",
      "97/97 [==============================] - 34s 349ms/step - loss: 0.7900 - accuracy: 0.6460 - val_loss: 1.0418 - val_accuracy: 0.5294\n",
      "Epoch 35/50\n",
      "97/97 [==============================] - 36s 367ms/step - loss: 0.7913 - accuracy: 0.6264 - val_loss: 1.2151 - val_accuracy: 0.4588\n",
      "Epoch 36/50\n",
      "97/97 [==============================] - 34s 351ms/step - loss: 0.8267 - accuracy: 0.6223 - val_loss: 1.2641 - val_accuracy: 0.4412\n",
      "Epoch 37/50\n",
      "97/97 [==============================] - 34s 349ms/step - loss: 0.7930 - accuracy: 0.6388 - val_loss: 1.0838 - val_accuracy: 0.4882\n",
      "Epoch 38/50\n",
      "97/97 [==============================] - 34s 350ms/step - loss: 0.7849 - accuracy: 0.6326 - val_loss: 1.4916 - val_accuracy: 0.4471\n",
      "Epoch 39/50\n",
      "97/97 [==============================] - 34s 349ms/step - loss: 0.8033 - accuracy: 0.6347 - val_loss: 1.1454 - val_accuracy: 0.4529\n",
      "Epoch 40/50\n",
      "97/97 [==============================] - 34s 351ms/step - loss: 0.8572 - accuracy: 0.6130 - val_loss: 1.2002 - val_accuracy: 0.4471\n",
      "Epoch 41/50\n",
      "97/97 [==============================] - 34s 348ms/step - loss: 0.8436 - accuracy: 0.6192 - val_loss: 1.7798 - val_accuracy: 0.4294\n",
      "Epoch 42/50\n",
      "97/97 [==============================] - 34s 347ms/step - loss: 0.8651 - accuracy: 0.6202 - val_loss: 1.1945 - val_accuracy: 0.5059\n",
      "Epoch 43/50\n",
      "97/97 [==============================] - 35s 355ms/step - loss: 0.8492 - accuracy: 0.6316 - val_loss: 1.8118 - val_accuracy: 0.4118\n",
      "Epoch 44/50\n",
      "97/97 [==============================] - 35s 358ms/step - loss: 0.8576 - accuracy: 0.6017 - val_loss: 1.0993 - val_accuracy: 0.4824\n",
      "Epoch 45/50\n",
      "97/97 [==============================] - 35s 360ms/step - loss: 0.8132 - accuracy: 0.6254 - val_loss: 1.1011 - val_accuracy: 0.4765\n",
      "Epoch 46/50\n",
      "97/97 [==============================] - 34s 355ms/step - loss: 0.8227 - accuracy: 0.6336 - val_loss: 1.1167 - val_accuracy: 0.5059\n",
      "Epoch 47/50\n",
      "97/97 [==============================] - 34s 355ms/step - loss: 0.7998 - accuracy: 0.6460 - val_loss: 1.2761 - val_accuracy: 0.4412\n",
      "Epoch 48/50\n",
      "97/97 [==============================] - 34s 354ms/step - loss: 0.7959 - accuracy: 0.6440 - val_loss: 1.2339 - val_accuracy: 0.4647\n",
      "Epoch 49/50\n",
      "97/97 [==============================] - 34s 350ms/step - loss: 0.8136 - accuracy: 0.6161 - val_loss: 1.3075 - val_accuracy: 0.4647\n",
      "Epoch 50/50\n",
      "97/97 [==============================] - 34s 352ms/step - loss: 0.8029 - accuracy: 0.6285 - val_loss: 1.1171 - val_accuracy: 0.5000\n"
     ]
    }
   ],
   "source": [
    "history = model.fit_generator(x_train1,\n",
    "                              steps_per_epoch=979//10,\n",
    "                              epochs=50,\n",
    "                              validation_data=x_test1,\n",
    "                              validation_steps=171//10)"
   ]
  },
  {
   "cell_type": "code",
   "execution_count": 39,
   "id": "0c356c93",
   "metadata": {},
   "outputs": [],
   "source": [
    "model.save(\"model2.h5\")"
   ]
  },
  {
   "cell_type": "markdown",
   "id": "6181eb83",
   "metadata": {},
   "source": [
    "# Testing"
   ]
  },
  {
   "cell_type": "code",
   "execution_count": 41,
   "id": "6ec5b7a1",
   "metadata": {},
   "outputs": [],
   "source": [
    "model1 = load_model(\"model2.h5\")"
   ]
  },
  {
   "cell_type": "code",
   "execution_count": 42,
   "id": "8cdeff98",
   "metadata": {},
   "outputs": [],
   "source": [
    "img = image.load_img(r\"D:\\TheSmartBridge\\Projects\\IBM 5 Project\\car damage detection\\Dataset\\level\\validation\\02-moderate\\0001.JPEG\", target_size=(64,64))"
   ]
  },
  {
   "cell_type": "code",
   "execution_count": 43,
   "id": "3b4fac36",
   "metadata": {},
   "outputs": [],
   "source": [
    "x = image.img_to_array(img)"
   ]
  },
  {
   "cell_type": "code",
   "execution_count": 44,
   "id": "0a692c03",
   "metadata": {},
   "outputs": [],
   "source": [
    "x = np.expand_dims(x,axis=0)"
   ]
  },
  {
   "cell_type": "code",
   "execution_count": 45,
   "id": "4ef766de",
   "metadata": {},
   "outputs": [
    {
     "data": {
      "text/plain": [
       "'minor'"
      ]
     },
     "execution_count": 45,
     "metadata": {},
     "output_type": "execute_result"
    }
   ],
   "source": [
    "prediction = model1.predict(x)\n",
    "label = [\"minor\",\"moderate\",\"severe\"]\n",
    "preds = label[np.argmax(prediction)]\n",
    "preds"
   ]
  },
  {
   "cell_type": "code",
   "execution_count": null,
   "id": "fe6c3da6",
   "metadata": {},
   "outputs": [],
   "source": []
  },
  {
   "cell_type": "code",
   "execution_count": null,
   "id": "adf1b481",
   "metadata": {},
   "outputs": [],
   "source": []
  },
  {
   "cell_type": "code",
   "execution_count": null,
   "id": "41390000",
   "metadata": {},
   "outputs": [],
   "source": []
  }
 ],
 "metadata": {
  "kernelspec": {
   "display_name": "Python 3 (ipykernel)",
   "language": "python",
   "name": "python3"
  },
  "language_info": {
   "codemirror_mode": {
    "name": "ipython",
    "version": 3
   },
   "file_extension": ".py",
   "mimetype": "text/x-python",
   "name": "python",
   "nbconvert_exporter": "python",
   "pygments_lexer": "ipython3",
   "version": "3.9.7"
  }
 },
 "nbformat": 4,
 "nbformat_minor": 5
}
